{
 "cells": [
  {
   "cell_type": "code",
   "execution_count": null,
   "id": "4f898544-7714-40c4-acd1-860ce7142e12",
   "metadata": {},
   "outputs": [],
   "source": [
    "print('j')"
   ]
  },
  {
   "cell_type": "code",
   "execution_count": 2,
   "id": "441a9108-e66a-42a4-861f-0d22b16bf496",
   "metadata": {},
   "outputs": [],
   "source": [
    "import pandas"
   ]
  },
  {
   "cell_type": "code",
   "execution_count": 2,
   "id": "599f2e9f-e4d1-4dee-bdbc-82a71363b082",
   "metadata": {},
   "outputs": [
    {
     "name": "stdout",
     "output_type": "stream",
     "text": [
      "Writing test.txt\n"
     ]
    }
   ],
   "source": [
    "%%writefile test.txt\n",
    "vdscsdcs"
   ]
  },
  {
   "cell_type": "code",
   "execution_count": 4,
   "id": "a653912d-01ed-4ebb-aa45-303c86c6b610",
   "metadata": {},
   "outputs": [
    {
     "data": {
      "text/plain": [
       "'vdscsdcs\\n'"
      ]
     },
     "execution_count": 4,
     "metadata": {},
     "output_type": "execute_result"
    }
   ],
   "source": [
    "file=open('test.txt')\n",
    "file.read()"
   ]
  },
  {
   "cell_type": "code",
   "execution_count": 5,
   "id": "4839f5a8-0d1b-4467-8a06-f0e091e5feb0",
   "metadata": {},
   "outputs": [
    {
     "data": {
      "text/plain": [
       "''"
      ]
     },
     "execution_count": 5,
     "metadata": {},
     "output_type": "execute_result"
    }
   ],
   "source": [
    "file.read()"
   ]
  },
  {
   "cell_type": "code",
   "execution_count": 6,
   "id": "bfb9e858-badc-43b4-be76-ac63e838aa94",
   "metadata": {},
   "outputs": [
    {
     "data": {
      "text/plain": [
       "0"
      ]
     },
     "execution_count": 6,
     "metadata": {},
     "output_type": "execute_result"
    }
   ],
   "source": [
    "file.seek(0)"
   ]
  },
  {
   "cell_type": "code",
   "execution_count": 8,
   "id": "3cb51df8-7359-40d1-9256-8ecf729927e1",
   "metadata": {},
   "outputs": [
    {
     "data": {
      "text/plain": [
       "'vdscsdcs\\n'"
      ]
     },
     "execution_count": 8,
     "metadata": {},
     "output_type": "execute_result"
    }
   ],
   "source": [
    "file.read()"
   ]
  },
  {
   "cell_type": "code",
   "execution_count": 9,
   "id": "212f7e48-c023-484e-a2f4-ea9c5f675435",
   "metadata": {},
   "outputs": [
    {
     "data": {
      "text/plain": [
       "'dcsdcdscs\\ncsdcdscsdc\\nsdcsdc'"
      ]
     },
     "execution_count": 9,
     "metadata": {},
     "output_type": "execute_result"
    }
   ],
   "source": [
    "file.read()"
   ]
  },
  {
   "cell_type": "code",
   "execution_count": 10,
   "id": "4f3a8f76-8d32-4ac0-ad84-30fa595796dc",
   "metadata": {},
   "outputs": [
    {
     "data": {
      "text/plain": [
       "'vdscsdcs\\ndcsdcdscs\\ncsdcdscsdc\\nsdcsdc'"
      ]
     },
     "execution_count": 10,
     "metadata": {},
     "output_type": "execute_result"
    }
   ],
   "source": [
    "file=open('test.txt')\n",
    "file.read()"
   ]
  },
  {
   "cell_type": "code",
   "execution_count": 11,
   "id": "14d036bc-3d74-46b4-963e-28efe960fe5b",
   "metadata": {},
   "outputs": [
    {
     "data": {
      "text/plain": [
       "''"
      ]
     },
     "execution_count": 11,
     "metadata": {},
     "output_type": "execute_result"
    }
   ],
   "source": [
    "file.read()"
   ]
  },
  {
   "cell_type": "code",
   "execution_count": 12,
   "id": "01c18da2-b82d-4d04-8e86-e69bd1bfe174",
   "metadata": {},
   "outputs": [
    {
     "data": {
      "text/plain": [
       "[]"
      ]
     },
     "execution_count": 12,
     "metadata": {},
     "output_type": "execute_result"
    }
   ],
   "source": [
    "file.readlines()"
   ]
  },
  {
   "cell_type": "code",
   "execution_count": 13,
   "id": "d73cffeb-d1b7-4b2a-994e-b3fe50c44d11",
   "metadata": {},
   "outputs": [],
   "source": [
    "lis=file.readlines()"
   ]
  },
  {
   "cell_type": "code",
   "execution_count": 14,
   "id": "6cec2355-ce52-4a52-b630-df08860b074e",
   "metadata": {},
   "outputs": [
    {
     "data": {
      "text/plain": [
       "[]"
      ]
     },
     "execution_count": 14,
     "metadata": {},
     "output_type": "execute_result"
    }
   ],
   "source": [
    "lis"
   ]
  },
  {
   "cell_type": "code",
   "execution_count": 15,
   "id": "d9290cc9-4289-45ac-8505-c3c77dff9f61",
   "metadata": {},
   "outputs": [
    {
     "data": {
      "text/plain": [
       "0"
      ]
     },
     "execution_count": 15,
     "metadata": {},
     "output_type": "execute_result"
    }
   ],
   "source": [
    "file.seek(0)"
   ]
  },
  {
   "cell_type": "code",
   "execution_count": 16,
   "id": "76c675ab-67d2-4894-a1b4-e60f229d6c55",
   "metadata": {},
   "outputs": [],
   "source": [
    "lis=file.readlines()"
   ]
  },
  {
   "cell_type": "code",
   "execution_count": 17,
   "id": "4fc55770-73cd-42ca-a81f-7eea9cd342ab",
   "metadata": {},
   "outputs": [
    {
     "data": {
      "text/plain": [
       "['vdscsdcs\\n', 'dcsdcdscs\\n', 'csdcdscsdc\\n', 'sdcsdc']"
      ]
     },
     "execution_count": 17,
     "metadata": {},
     "output_type": "execute_result"
    }
   ],
   "source": [
    "lis"
   ]
  },
  {
   "cell_type": "code",
   "execution_count": 19,
   "id": "935f7890-e8b1-4aab-9db8-deaaffaa803e",
   "metadata": {},
   "outputs": [
    {
     "data": {
      "text/plain": [
       "14"
      ]
     },
     "execution_count": 19,
     "metadata": {},
     "output_type": "execute_result"
    }
   ],
   "source": [
    "file=open('test.txt','w+')\n",
    "file.write('this is sparta')"
   ]
  },
  {
   "cell_type": "markdown",
   "id": "10f6b1a0-013f-41d1-9228-e7f66ffd847c",
   "metadata": {},
   "source": [
    "file.seek(0)"
   ]
  },
  {
   "cell_type": "code",
   "execution_count": 22,
   "id": "3f43677d-1d32-4c84-8f6b-9f7c8a74bbab",
   "metadata": {},
   "outputs": [
    {
     "data": {
      "text/plain": [
       "'this is sparta'"
      ]
     },
     "execution_count": 22,
     "metadata": {},
     "output_type": "execute_result"
    }
   ],
   "source": [
    "file.read()"
   ]
  },
  {
   "cell_type": "code",
   "execution_count": 23,
   "id": "28c63d94-3b3a-45ff-acff-e27c07391446",
   "metadata": {},
   "outputs": [
    {
     "data": {
      "text/plain": [
       "14"
      ]
     },
     "execution_count": 23,
     "metadata": {},
     "output_type": "execute_result"
    }
   ],
   "source": [
    "file=open('test.txt','a+')\n",
    "file.write('\\nthis is cairo')"
   ]
  },
  {
   "cell_type": "code",
   "execution_count": 25,
   "id": "4848a652-78e5-4690-bc5c-0440b13bddbe",
   "metadata": {},
   "outputs": [
    {
     "data": {
      "text/plain": [
       "0"
      ]
     },
     "execution_count": 25,
     "metadata": {},
     "output_type": "execute_result"
    }
   ],
   "source": [
    "file.seek(0)"
   ]
  },
  {
   "cell_type": "code",
   "execution_count": 26,
   "id": "3190cc82-52b8-4967-b143-8e9724060b3c",
   "metadata": {},
   "outputs": [
    {
     "data": {
      "text/plain": [
       "'this is sparta\\nthis is cairo'"
      ]
     },
     "execution_count": 26,
     "metadata": {},
     "output_type": "execute_result"
    }
   ],
   "source": [
    "file.read()"
   ]
  },
  {
   "cell_type": "code",
   "execution_count": 27,
   "id": "e47709ae-279b-4e66-9954-8dd6a671ca79",
   "metadata": {},
   "outputs": [
    {
     "data": {
      "text/plain": [
       "'this is sparta\\n'"
      ]
     },
     "execution_count": 27,
     "metadata": {},
     "output_type": "execute_result"
    }
   ],
   "source": [
    "with open('test.txt','r') as test:\n",
    "    firstline=test.readlines()[0]\n",
    "firstline    "
   ]
  },
  {
   "cell_type": "code",
   "execution_count": 28,
   "id": "2a889f04-245e-4aa9-907d-9975f27533ef",
   "metadata": {},
   "outputs": [
    {
     "name": "stdout",
     "output_type": "stream",
     "text": [
      "this is sparta\n",
      "this is cairo"
     ]
    }
   ],
   "source": [
    "with open('test.txt','r') as test:\n",
    "    lines=test.readlines()\n",
    "    for line in lines:\n",
    "        print(line,end=\"\")"
   ]
  },
  {
   "cell_type": "code",
   "execution_count": 33,
   "id": "08f0c656-c749-405b-90b2-f7901e9243b0",
   "metadata": {},
   "outputs": [
    {
     "data": {
      "text/html": [
       "<div>\n",
       "<style scoped>\n",
       "    .dataframe tbody tr th:only-of-type {\n",
       "        vertical-align: middle;\n",
       "    }\n",
       "\n",
       "    .dataframe tbody tr th {\n",
       "        vertical-align: top;\n",
       "    }\n",
       "\n",
       "    .dataframe thead th {\n",
       "        text-align: right;\n",
       "    }\n",
       "</style>\n",
       "<table border=\"1\" class=\"dataframe\">\n",
       "  <thead>\n",
       "    <tr style=\"text-align: right;\">\n",
       "      <th></th>\n",
       "      <th>UserName</th>\n",
       "      <th>ScreenName</th>\n",
       "      <th>Location</th>\n",
       "      <th>TweetAt</th>\n",
       "      <th>OriginalTweet</th>\n",
       "      <th>Sentiment</th>\n",
       "    </tr>\n",
       "  </thead>\n",
       "  <tbody>\n",
       "    <tr>\n",
       "      <th>0</th>\n",
       "      <td>1</td>\n",
       "      <td>44953</td>\n",
       "      <td>NYC</td>\n",
       "      <td>02-03-2020</td>\n",
       "      <td>TRENDING: New Yorkers encounter empty supermar...</td>\n",
       "      <td>Extremely Negative</td>\n",
       "    </tr>\n",
       "    <tr>\n",
       "      <th>1</th>\n",
       "      <td>2</td>\n",
       "      <td>44954</td>\n",
       "      <td>Seattle, WA</td>\n",
       "      <td>02-03-2020</td>\n",
       "      <td>When I couldn't find hand sanitizer at Fred Me...</td>\n",
       "      <td>Positive</td>\n",
       "    </tr>\n",
       "    <tr>\n",
       "      <th>2</th>\n",
       "      <td>3</td>\n",
       "      <td>44955</td>\n",
       "      <td>NaN</td>\n",
       "      <td>02-03-2020</td>\n",
       "      <td>Find out how you can protect yourself and love...</td>\n",
       "      <td>Extremely Positive</td>\n",
       "    </tr>\n",
       "    <tr>\n",
       "      <th>3</th>\n",
       "      <td>4</td>\n",
       "      <td>44956</td>\n",
       "      <td>Chicagoland</td>\n",
       "      <td>02-03-2020</td>\n",
       "      <td>#Panic buying hits #NewYork City as anxious sh...</td>\n",
       "      <td>Negative</td>\n",
       "    </tr>\n",
       "    <tr>\n",
       "      <th>4</th>\n",
       "      <td>5</td>\n",
       "      <td>44957</td>\n",
       "      <td>Melbourne, Victoria</td>\n",
       "      <td>03-03-2020</td>\n",
       "      <td>#toiletpaper #dunnypaper #coronavirus #coronav...</td>\n",
       "      <td>Neutral</td>\n",
       "    </tr>\n",
       "  </tbody>\n",
       "</table>\n",
       "</div>"
      ],
      "text/plain": [
       "   UserName  ScreenName             Location     TweetAt  \\\n",
       "0         1       44953                  NYC  02-03-2020   \n",
       "1         2       44954          Seattle, WA  02-03-2020   \n",
       "2         3       44955                  NaN  02-03-2020   \n",
       "3         4       44956          Chicagoland  02-03-2020   \n",
       "4         5       44957  Melbourne, Victoria  03-03-2020   \n",
       "\n",
       "                                       OriginalTweet           Sentiment  \n",
       "0  TRENDING: New Yorkers encounter empty supermar...  Extremely Negative  \n",
       "1  When I couldn't find hand sanitizer at Fred Me...            Positive  \n",
       "2  Find out how you can protect yourself and love...  Extremely Positive  \n",
       "3  #Panic buying hits #NewYork City as anxious sh...            Negative  \n",
       "4  #toiletpaper #dunnypaper #coronavirus #coronav...             Neutral  "
      ]
     },
     "execution_count": 33,
     "metadata": {},
     "output_type": "execute_result"
    }
   ],
   "source": [
    "import pandas as pd\n",
    "df=pd.read_csv(\"Corona_NLP_test.csv\")\n",
    "df.head()"
   ]
  },
  {
   "cell_type": "code",
   "execution_count": 35,
   "id": "7b10ae3d-bd7f-4cdb-aff2-532d39f40f1c",
   "metadata": {},
   "outputs": [],
   "source": [
    "outfile=open(\"cs.csv\",'w')\n",
    "outfile.write(\"a\")\n",
    "outfile.close()"
   ]
  },
  {
   "cell_type": "code",
   "execution_count": 36,
   "id": "51036152-0f7e-4671-a335-857615e8464e",
   "metadata": {},
   "outputs": [],
   "source": [
    "outfile=open(\"4.xlsx\",'w')\n",
    "outfile.write(\"a\")\n",
    "outfile.close()"
   ]
  },
  {
   "cell_type": "code",
   "execution_count": 37,
   "id": "24ef35a7-f0f7-4b44-b363-eb632694fa5f",
   "metadata": {},
   "outputs": [
    {
     "data": {
      "text/html": [
       "<div>\n",
       "<style scoped>\n",
       "    .dataframe tbody tr th:only-of-type {\n",
       "        vertical-align: middle;\n",
       "    }\n",
       "\n",
       "    .dataframe tbody tr th {\n",
       "        vertical-align: top;\n",
       "    }\n",
       "\n",
       "    .dataframe thead th {\n",
       "        text-align: right;\n",
       "    }\n",
       "</style>\n",
       "<table border=\"1\" class=\"dataframe\">\n",
       "  <thead>\n",
       "    <tr style=\"text-align: right;\">\n",
       "      <th></th>\n",
       "      <th>0</th>\n",
       "    </tr>\n",
       "  </thead>\n",
       "  <tbody>\n",
       "    <tr>\n",
       "      <th>0</th>\n",
       "      <td>0.138630</td>\n",
       "    </tr>\n",
       "    <tr>\n",
       "      <th>1</th>\n",
       "      <td>0.075461</td>\n",
       "    </tr>\n",
       "    <tr>\n",
       "      <th>2</th>\n",
       "      <td>0.260094</td>\n",
       "    </tr>\n",
       "    <tr>\n",
       "      <th>3</th>\n",
       "      <td>0.962826</td>\n",
       "    </tr>\n",
       "    <tr>\n",
       "      <th>4</th>\n",
       "      <td>0.519031</td>\n",
       "    </tr>\n",
       "    <tr>\n",
       "      <th>5</th>\n",
       "      <td>0.352376</td>\n",
       "    </tr>\n",
       "    <tr>\n",
       "      <th>6</th>\n",
       "      <td>0.511347</td>\n",
       "    </tr>\n",
       "    <tr>\n",
       "      <th>7</th>\n",
       "      <td>0.399201</td>\n",
       "    </tr>\n",
       "    <tr>\n",
       "      <th>8</th>\n",
       "      <td>0.376433</td>\n",
       "    </tr>\n",
       "    <tr>\n",
       "      <th>9</th>\n",
       "      <td>0.916090</td>\n",
       "    </tr>\n",
       "  </tbody>\n",
       "</table>\n",
       "</div>"
      ],
      "text/plain": [
       "          0\n",
       "0  0.138630\n",
       "1  0.075461\n",
       "2  0.260094\n",
       "3  0.962826\n",
       "4  0.519031\n",
       "5  0.352376\n",
       "6  0.511347\n",
       "7  0.399201\n",
       "8  0.376433\n",
       "9  0.916090"
      ]
     },
     "execution_count": 37,
     "metadata": {},
     "output_type": "execute_result"
    }
   ],
   "source": [
    "import numpy as np\n",
    "data=pd.DataFrame(pd.Series(np.random.rand(10000)))\n",
    "data.head(10)"
   ]
  },
  {
   "cell_type": "code",
   "execution_count": 39,
   "id": "9d3e16e5-47b9-494e-bbdf-dff386439144",
   "metadata": {},
   "outputs": [],
   "source": [
    "data.to_csv('6.csv')"
   ]
  },
  {
   "cell_type": "code",
   "execution_count": 40,
   "id": "907156c2-63f3-4cf2-9655-6456e59512b7",
   "metadata": {},
   "outputs": [],
   "source": [
    "f=open('f.txt','a',encoding='utf8')\n",
    "f.write(\"\\n السطر الاول\")\n",
    "f.write(\"\\n السطر الثانى\")\n",
    "f.write(\"\\n السطر الثالث\")\n",
    "f.write(\"\\n السطر الرابع\")\n",
    "f.write(\"\\n السطر الخامس\")\n",
    "f.close()"
   ]
  },
  {
   "cell_type": "code",
   "execution_count": 41,
   "id": "3928c5a5-c18a-4a24-9f98-54d500ec110c",
   "metadata": {},
   "outputs": [
    {
     "name": "stdout",
     "output_type": "stream",
     "text": [
      "\n",
      " السطر الاول\n",
      " السطر الثانى\n",
      " السطر الثالث\n",
      " السطر الرابع\n",
      " السطر الخامس"
     ]
    }
   ],
   "source": [
    "f=open('f.txt','r',encoding='utf8')\n",
    "lines=f.readlines()\n",
    "for line in lines:\n",
    "    print(line,end='')"
   ]
  },
  {
   "cell_type": "code",
   "execution_count": 42,
   "id": "e547de2d-0ca1-428b-b115-e8b4f7647ea5",
   "metadata": {},
   "outputs": [
    {
     "name": "stdout",
     "output_type": "stream",
     "text": [
      "\n",
      " Ø§Ù„Ø³Ø·Ø± Ø§Ù„Ø§ÙˆÙ„\n",
      " Ø§Ù„Ø³Ø·Ø± Ø§Ù„Ø«Ø§Ù†Ù‰\n",
      " Ø§Ù„Ø³Ø·Ø± Ø§Ù„Ø«Ø§Ù„Ø«\n",
      " Ø§Ù„Ø³Ø·Ø± Ø§Ù„Ø±Ø§Ø¨Ø¹\n",
      " Ø§Ù„Ø³Ø·Ø± Ø§Ù„Ø®Ø§Ù…Ø³"
     ]
    }
   ],
   "source": [
    "f=open('f.txt','r',)\n",
    "lines=f.readlines()\n",
    "for line in lines:\n",
    "    print(line,end='')"
   ]
  },
  {
   "cell_type": "code",
   "execution_count": 1,
   "id": "5e14cba2-6f1a-4740-a21b-8668dad6d44c",
   "metadata": {},
   "outputs": [
    {
     "name": "stdout",
     "output_type": "stream",
     "text": [
      "Collecting PyPDF2\n",
      "  Downloading pypdf2-3.0.1-py3-none-any.whl.metadata (6.8 kB)\n",
      "Downloading pypdf2-3.0.1-py3-none-any.whl (232 kB)\n",
      "Installing collected packages: PyPDF2\n",
      "Successfully installed PyPDF2-3.0.1\n",
      "Note: you may need to restart the kernel to use updated packages.\n"
     ]
    }
   ],
   "source": [
    "pip install PyPDF2"
   ]
  },
  {
   "cell_type": "code",
   "execution_count": 1,
   "id": "dfd784ca-1add-490d-8bcb-96011dcf3f20",
   "metadata": {},
   "outputs": [],
   "source": [
    "import PyPDF2"
   ]
  },
  {
   "cell_type": "code",
   "execution_count": 3,
   "id": "5cd099a6-ddde-4ed8-aaa1-fe53154054c4",
   "metadata": {},
   "outputs": [],
   "source": [
    "f=open(\"AAL.pdf\",'rb')\n",
    "pdf_reader=PyPDF2.PdfReader(f)"
   ]
  },
  {
   "cell_type": "code",
   "execution_count": 7,
   "id": "84760478-6bdc-4dc3-9fbd-9be423a26820",
   "metadata": {},
   "outputs": [
    {
     "data": {
      "text/plain": [
       "10"
      ]
     },
     "execution_count": 7,
     "metadata": {},
     "output_type": "execute_result"
    }
   ],
   "source": [
    "len(pdf_reader.pages)"
   ]
  },
  {
   "cell_type": "code",
   "execution_count": 11,
   "id": "e58a5e9f-edbf-4f31-8635-7c85c0a19ec2",
   "metadata": {},
   "outputs": [
    {
     "name": "stdout",
     "output_type": "stream",
     "text": [
      "Android App Lifecycle\n",
      "Your Name:\n",
      "1. What is the primary reason for understanding the Android app\n",
      "lifecycle?\n",
      "A. To write more eﬃcient Java code.\n",
      "B. To avoid using the Toast class.\n",
      "C. To simplify the structure of Android projects.\n",
      "D. To know where to place code to handle speciﬁc app events.\n",
      "2. What does method overriding in the context of the Android\n",
      "lifecycle allow developers to do?\n",
      "A. Replace the entire Android API with custom code.\n",
      "B. Prevent the Android OS from calling certain methods.\n",
      "C. Add speciﬁc functionality at predeﬁned points in the app's lifecycle.\n",
      "D. Simplify the process of debugging Android applications.\n",
      "3. Why is it important for an app to handle the `onPause` method\n",
      "correctly?\n",
      "A. To save any unsaved user data before the app is interrupted.\n",
      "B. To guarantee the app restarts from the beginning.\n",
      "C. To prevent the app from being destroyed by the operating system.\n",
      "D. To ensure the app uses minimal processing power.\n"
     ]
    }
   ],
   "source": [
    "page_one=pdf_reader.pages[0]\n",
    "page_text=page_one.extract_text()\n",
    "print(page_text)"
   ]
  },
  {
   "cell_type": "code",
   "execution_count": 13,
   "id": "7e39e903-b282-4906-9f25-8349f9694063",
   "metadata": {},
   "outputs": [
    {
     "name": "stdout",
     "output_type": "stream",
     "text": [
      "['4.', 'What', 'is', 'the', 'purpose', 'of', 'calling', '`super.onCreate(savedInstanceState)`', 'within', 'the', '`onCreate`', 'method?', 'A.', 'To', 'execute', 'code', 'in', 'a', 'superclass', 'before', 'any', 'other', 'actions.', 'B.', 'To', 'ensure', 'that', 'the', 'Android', 'system', 'can', 'properly', 'initialize', 'the', 'activity.', 'C.', 'To', 'load', 'previously', 'saved', 'user', 'preferences.', 'D.', 'To', 'skip', 'the', 'oﬃcial', 'Android', 'version', 'of', 'onCreate.', '5.', 'In', 'the', 'Android', 'lifecycle,', 'what', 'is', 'the', 'diﬀerence', 'between', 'the', '`onStop`', 'and', '`onDestroy`', 'methods?', 'A.', '`onStop`', 'is', 'called', 'when', 'the', 'activity', 'is', 'no', 'longer', 'visible,', 'while', '`onDestroy`', 'is', 'called', 'before', 'the', 'activity', 'is', 'killed.', 'B.', '`onStop`', 'is', 'called', 'before', '`onCreate`,', 'while', '`onDestroy`', 'is', 'called', 'after', '`onResume`.', 'C.', '`onStop`', 'is', 'called', 'when', 'the', 'activity', 'is', 'killed,', 'while', '`onDestroy`', 'is', 'called', 'when', 'the', 'activity', 'becomes', 'visible.', 'D.', '`onStop`', 'and', '`onDestroy`', 'are', 'interchangeable', 'and', 'perform', 'the', 'same', 'function.', '6.', 'An', 'Android', 'app', 'is', 'running', 'in', 'the', 'foreground.', 'A', 'user', 'switches', 'to', 'another', 'app.', 'Which', 'lifecycle', 'method', 'is', 'called', 'on', 'the', 'original', 'app', 'before', 'the', 'switch?', 'A.', 'onStart', 'B.', 'onResume', 'C.', 'onDestroy', 'D.', 'onPause']\n"
     ]
    }
   ],
   "source": [
    "print(pdf_reader.pages[1].extract_text().split())"
   ]
  },
  {
   "cell_type": "code",
   "execution_count": 14,
   "id": "1ea8af57-c827-433b-8a0c-84c4a0e72842",
   "metadata": {},
   "outputs": [],
   "source": [
    "text=pdf_reader.pages[1].extract_text()"
   ]
  },
  {
   "cell_type": "code",
   "execution_count": 17,
   "id": "1ced5a73-0384-449a-ae34-cb34a20d77ef",
   "metadata": {},
   "outputs": [
    {
     "data": {
      "text/plain": [
       "{'/Type': '/Page',\n",
       " '/Resources': {'/ProcSet': ['/PDF', '/Text', '/ImageB', '/ImageC', '/ImageI'],\n",
       "  '/ExtGState': {'/G3': {'/ca': 1, '/BM': '/Normal'},\n",
       "   '/G4': {'/CA': 1,\n",
       "    '/ca': 1,\n",
       "    '/LC': 0,\n",
       "    '/LJ': 0,\n",
       "    '/LW': 1,\n",
       "    '/ML': 4,\n",
       "    '/SA': True,\n",
       "    '/BM': '/Normal'}},\n",
       "  '/Font': {'/F6': {'/Type': '/Font',\n",
       "    '/Subtype': '/Type0',\n",
       "    '/BaseFont': '/BAAAAA+NotoSans-SemiBold',\n",
       "    '/Encoding': '/Identity-H',\n",
       "    '/DescendantFonts': [IndirectObject(8, 0, 2294205417744)],\n",
       "    '/ToUnicode': {'/Filter': '/FlateDecode'}},\n",
       "   '/F7': {'/Type': '/Font',\n",
       "    '/Subtype': '/Type0',\n",
       "    '/BaseFont': '/BAAAAA+NotoSans-SemiBold',\n",
       "    '/Encoding': '/Identity-H',\n",
       "    '/DescendantFonts': [IndirectObject(13, 0, 2294205417744)],\n",
       "    '/ToUnicode': {'/Filter': '/FlateDecode'}},\n",
       "   '/F8': {'/Type': '/Font',\n",
       "    '/Subtype': '/Type0',\n",
       "    '/BaseFont': '/CAAAAA+NotoSans-Regular',\n",
       "    '/Encoding': '/Identity-H',\n",
       "    '/DescendantFonts': [IndirectObject(18, 0, 2294205417744)],\n",
       "    '/ToUnicode': {'/Filter': '/FlateDecode'}}}},\n",
       " '/MediaBox': [0, 0, 595.91998, 841.91998],\n",
       " '/Contents': {'/Filter': '/FlateDecode'},\n",
       " '/Parent': {'/Type': '/Pages',\n",
       "  '/Count': 1,\n",
       "  '/Kids': [IndirectObject(4, 0, 2294205417744)]}}"
      ]
     },
     "execution_count": 17,
     "metadata": {},
     "output_type": "execute_result"
    }
   ],
   "source": [
    "pdf_writer=PyPDF2.PdfWriter()\n",
    "pdf_writer.add_page(pdf_reader.pages[1])"
   ]
  },
  {
   "cell_type": "code",
   "execution_count": 21,
   "id": "5cc02b61-aa45-41d8-9815-2ebcb5578b8b",
   "metadata": {},
   "outputs": [],
   "source": [
    "pdf_output=open(\"new_file.pdf\",\"wb\")\n",
    "pdf_writer.write(pdf_output)\n",
    "pdf_output.close()"
   ]
  },
  {
   "cell_type": "code",
   "execution_count": 23,
   "id": "7094777d-b6a7-4229-a3e1-84abae84c7db",
   "metadata": {},
   "outputs": [],
   "source": [
    "from PyPDF2 import PdfWriter,PdfReader,PdfMerger #عايزين شرح\n",
    "file1=\"f1.pdf\"\n",
    "file2=\"f2.pdf\"\n",
    "\n",
    "merger=PdfMerger()\n",
    "merger.append(PdfReader(open(file1,'rb')))\n",
    "merger.append(PdfReader(open(file2,'rb')))\n",
    "\n",
    "merger.write('merge_file.pdf')\n",
    "\n",
    "                        "
   ]
  },
  {
   "cell_type": "code",
   "execution_count": 25,
   "id": "944bdce6-96ef-4e71-9cf9-98a9717e91e2",
   "metadata": {},
   "outputs": [],
   "source": [
    "#عايزين شرح\n",
    "f1=PdfReader(open(file1,'rb'))\n",
    "f2=PdfReader(open(file2,'rb'))\n",
    "\n",
    "output=PdfWriter()\n",
    "\n",
    "output.add_page(f1.pages[5])\n",
    "output.add_page(f2.pages[3])\n",
    "\n",
    "stream=open(\"merge_file2.pdf\",'wb')\n",
    "output.write(stream)\n",
    "stream.close()"
   ]
  },
  {
   "cell_type": "code",
   "execution_count": 2,
   "id": "8cfa9e3d-3d01-416f-9494-b97aeada5f42",
   "metadata": {},
   "outputs": [
    {
     "name": "stdout",
     "output_type": "stream",
     "text": [
      "<re.Match object; span=(286, 295), match='Barcelona'>\n"
     ]
    }
   ],
   "source": [
    "import re\n",
    "text=\"\"\"Founded in 1899 by a group of Swiss, Catalan, German, and\n",
    "English footballers led by Joan Gamper, the club has become\n",
    "a symbol of Catalan culture and Catalanism, hence the motto\n",
    "\"Més que un club\" (\"More than a club\").[2] Unlike many other\n",
    "football clubs, the supporters own and operate Barcelona.\n",
    "It is the third-most valuable football club in the world,\n",
    "worth $5.6 billion, and the world's fourth richest football\n",
    "club in terms of revenue, with an annual turnover of €800.1 \n",
    "million.[3][4] The official Barcelona anthem is the \n",
    "\"Cant del Barça\", written by Jaume Picas and Josep Maria Espinàs.\n",
    "[5] Barcelona traditionally play in dark shades of blue and garnet\n",
    "stripes, hence nicknamed Blaugrana._\n",
    "\"\"\"\n",
    "pattern=\"Barcelona\"\n",
    "match=re.search(pattern,text)\n",
    "print(match)"
   ]
  },
  {
   "cell_type": "code",
   "execution_count": 3,
   "id": "b9d5f554-7ca1-4934-b30c-84738be7a547",
   "metadata": {},
   "outputs": [
    {
     "name": "stdout",
     "output_type": "stream",
     "text": [
      "(286, 295)\n",
      "286 295\n"
     ]
    }
   ],
   "source": [
    "print(match.span())\n",
    "print(match.start(),match.end())"
   ]
  },
  {
   "cell_type": "code",
   "execution_count": 4,
   "id": "33aea271-b25f-4c05-855c-e5d5b50753f1",
   "metadata": {},
   "outputs": [
    {
     "name": "stdout",
     "output_type": "stream",
     "text": [
      "['Barcelona', 'Barcelona', 'Barcelona']\n"
     ]
    }
   ],
   "source": [
    "matches=re.findall(pattern,text)\n",
    "print(matches)"
   ]
  },
  {
   "cell_type": "code",
   "execution_count": 5,
   "id": "974a15d2-4b04-49fa-aeac-51c5f180b7be",
   "metadata": {},
   "outputs": [
    {
     "data": {
      "text/plain": [
       "3"
      ]
     },
     "execution_count": 5,
     "metadata": {},
     "output_type": "execute_result"
    }
   ],
   "source": [
    "len(matches)"
   ]
  },
  {
   "cell_type": "code",
   "execution_count": 6,
   "id": "c66d6214-2b1a-4c30-9f9e-334c5e366152",
   "metadata": {},
   "outputs": [
    {
     "name": "stdout",
     "output_type": "stream",
     "text": [
      "(286, 295)\n",
      "(504, 513)\n",
      "(599, 608)\n"
     ]
    }
   ],
   "source": [
    "for m in re.finditer(pattern,text):\n",
    "    print(m.span())"
   ]
  },
  {
   "cell_type": "code",
   "execution_count": 10,
   "id": "7ff05228-dffe-4360-b11f-872089356120",
   "metadata": {},
   "outputs": [
    {
     "data": {
      "text/plain": [
       "<re.Match object; span=(12, 23), match='455-477-577'>"
      ]
     },
     "execution_count": 10,
     "metadata": {},
     "output_type": "execute_result"
    }
   ],
   "source": [
    "text=\"my phone is 455-477-577\"\n",
    "res=re.search(r\"\\d{3}-\\d{3}-\\d{3}\",text)\n",
    "res"
   ]
  },
  {
   "cell_type": "code",
   "execution_count": 12,
   "id": "f342f44b-b409-407e-92cb-40b2441fedea",
   "metadata": {},
   "outputs": [
    {
     "data": {
      "text/plain": [
       "'455-477-577'"
      ]
     },
     "execution_count": 12,
     "metadata": {},
     "output_type": "execute_result"
    }
   ],
   "source": [
    "res.group()"
   ]
  },
  {
   "cell_type": "code",
   "execution_count": 15,
   "id": "ad56358e-511d-4dc9-8d3d-287c489e62eb",
   "metadata": {},
   "outputs": [
    {
     "ename": "IndexError",
     "evalue": "no such group",
     "output_type": "error",
     "traceback": [
      "\u001b[31m---------------------------------------------------------------------------\u001b[39m",
      "\u001b[31mIndexError\u001b[39m                                Traceback (most recent call last)",
      "\u001b[36mCell\u001b[39m\u001b[36m \u001b[39m\u001b[32mIn[15]\u001b[39m\u001b[32m, line 1\u001b[39m\n\u001b[32m----> \u001b[39m\u001b[32m1\u001b[39m \u001b[38;5;28mprint\u001b[39m(\u001b[43mres\u001b[49m\u001b[43m.\u001b[49m\u001b[43mgroup\u001b[49m\u001b[43m(\u001b[49m\u001b[32;43m1\u001b[39;49m\u001b[43m)\u001b[49m)\n",
      "\u001b[31mIndexError\u001b[39m: no such group"
     ]
    }
   ],
   "source": []
  },
  {
   "cell_type": "code",
   "execution_count": 16,
   "id": "ea3fcfd5-f168-47ab-8f2c-3e21f5b8d892",
   "metadata": {},
   "outputs": [
    {
     "data": {
      "text/plain": [
       "['bat', 'lat']"
      ]
     },
     "execution_count": 16,
     "metadata": {},
     "output_type": "execute_result"
    }
   ],
   "source": [
    "re.findall(r\".at\",\"the bat went splat\")"
   ]
  },
  {
   "cell_type": "code",
   "execution_count": 18,
   "id": "e564db4a-3ebc-4c7a-b39a-c0f4a1d83376",
   "metadata": {},
   "outputs": [
    {
     "data": {
      "text/plain": [
       "['e bat', 'splat']"
      ]
     },
     "execution_count": 18,
     "metadata": {},
     "output_type": "execute_result"
    }
   ],
   "source": [
    "re.findall(r\"...at\",\"the bat went splat\")"
   ]
  },
  {
   "cell_type": "code",
   "execution_count": 19,
   "id": "a6ce649f-19d2-4764-ac16-4e8cdb036226",
   "metadata": {},
   "outputs": [
    {
     "data": {
      "text/plain": [
       "['bat', 'splat']"
      ]
     },
     "execution_count": 19,
     "metadata": {},
     "output_type": "execute_result"
    }
   ],
   "source": [
    "re.findall(r\"\\S+at\",\"the bat went splat\")"
   ]
  },
  {
   "cell_type": "code",
   "execution_count": 23,
   "id": "740d2e5c-c9c1-4e61-ac81-d42b6a02b339",
   "metadata": {},
   "outputs": [
    {
     "data": {
      "text/plain": [
       "['25']"
      ]
     },
     "execution_count": 23,
     "metadata": {},
     "output_type": "execute_result"
    }
   ],
   "source": [
    "re.findall(r\"^\\d+\",\"25 this ends with a number 28\")"
   ]
  },
  {
   "cell_type": "code",
   "execution_count": 24,
   "id": "14f2d001-c81b-4c92-951b-f461896e2a64",
   "metadata": {},
   "outputs": [
    {
     "data": {
      "text/plain": [
       "['this', 'ends', 'with', 'a', 'number']"
      ]
     },
     "execution_count": 24,
     "metadata": {},
     "output_type": "execute_result"
    }
   ],
   "source": [
    "re.findall(r\"[^\\d\\s]+\",\"25 this ends with a number 28\")"
   ]
  },
  {
   "cell_type": "code",
   "execution_count": null,
   "id": "29c2438a-77dd-441d-a004-7c049af1623e",
   "metadata": {},
   "outputs": [],
   "source": []
  }
 ],
 "metadata": {
  "kernelspec": {
   "display_name": "Python 3 (ipykernel)",
   "language": "python",
   "name": "python3"
  },
  "language_info": {
   "codemirror_mode": {
    "name": "ipython",
    "version": 3
   },
   "file_extension": ".py",
   "mimetype": "text/x-python",
   "name": "python",
   "nbconvert_exporter": "python",
   "pygments_lexer": "ipython3",
   "version": "3.13.5"
  }
 },
 "nbformat": 4,
 "nbformat_minor": 5
}
