{
 "cells": [
  {
   "cell_type": "code",
   "execution_count": 3,
   "id": "da2f8237-a34f-4417-b4d7-45f6e84b9489",
   "metadata": {},
   "outputs": [
    {
     "data": {
      "text/plain": [
       "[\"i'd\", 'go', 'in', 'egypt']"
      ]
     },
     "execution_count": 3,
     "metadata": {},
     "output_type": "execute_result"
    }
   ],
   "source": [
    "text=\"i'd go in egypt \"\n",
    "text.split()"
   ]
  },
  {
   "cell_type": "code",
   "execution_count": 4,
   "id": "2b87e058-4f80-47ba-beae-766351ee6db2",
   "metadata": {},
   "outputs": [
    {
     "name": "stdout",
     "output_type": "stream",
     "text": [
      "Requirement already satisfied: nltk in c:\\users\\yousef_haroon\\anaconda3\\lib\\site-packages (3.9.1)\n",
      "Requirement already satisfied: click in c:\\users\\yousef_haroon\\anaconda3\\lib\\site-packages (from nltk) (8.1.8)\n",
      "Requirement already satisfied: joblib in c:\\users\\yousef_haroon\\anaconda3\\lib\\site-packages (from nltk) (1.4.2)\n",
      "Requirement already satisfied: regex>=2021.8.3 in c:\\users\\yousef_haroon\\anaconda3\\lib\\site-packages (from nltk) (2024.11.6)\n",
      "Requirement already satisfied: tqdm in c:\\users\\yousef_haroon\\anaconda3\\lib\\site-packages (from nltk) (4.67.1)\n",
      "Requirement already satisfied: colorama in c:\\users\\yousef_haroon\\appdata\\roaming\\python\\python313\\site-packages (from click->nltk) (0.4.6)\n",
      "Note: you may need to restart the kernel to use updated packages.\n"
     ]
    }
   ],
   "source": [
    "pip install nltk"
   ]
  },
  {
   "cell_type": "code",
   "execution_count": 1,
   "id": "69fece71-3973-478c-86b0-e23572091940",
   "metadata": {},
   "outputs": [
    {
     "data": {
      "text/plain": [
       "'3.9.1'"
      ]
     },
     "execution_count": 1,
     "metadata": {},
     "output_type": "execute_result"
    }
   ],
   "source": [
    "import nltk\n",
    "nltk.__version__"
   ]
  },
  {
   "cell_type": "code",
   "execution_count": 2,
   "id": "8a2c4523-251b-4b14-ac4e-9dced2a0aa63",
   "metadata": {},
   "outputs": [
    {
     "name": "stdout",
     "output_type": "stream",
     "text": [
      "showing info https://raw.githubusercontent.com/nltk/nltk_data/gh-pages/index.xml\n"
     ]
    },
    {
     "data": {
      "text/plain": [
       "True"
      ]
     },
     "execution_count": 2,
     "metadata": {},
     "output_type": "execute_result"
    }
   ],
   "source": [
    "nltk.download()"
   ]
  },
  {
   "cell_type": "code",
   "execution_count": 3,
   "id": "05febe16-e9b8-4736-8343-3590d613733c",
   "metadata": {},
   "outputs": [
    {
     "name": "stdout",
     "output_type": "stream",
     "text": [
      "Collecting spacy\n",
      "  Using cached spacy-3.8.7-cp313-cp313-win_amd64.whl.metadata (28 kB)\n",
      "Collecting spacy-legacy<3.1.0,>=3.0.11 (from spacy)\n",
      "  Using cached spacy_legacy-3.0.12-py2.py3-none-any.whl.metadata (2.8 kB)\n",
      "Collecting spacy-loggers<2.0.0,>=1.0.0 (from spacy)\n",
      "  Using cached spacy_loggers-1.0.5-py3-none-any.whl.metadata (23 kB)\n",
      "Collecting murmurhash<1.1.0,>=0.28.0 (from spacy)\n",
      "  Using cached murmurhash-1.0.13-cp313-cp313-win_amd64.whl.metadata (2.2 kB)\n",
      "Collecting cymem<2.1.0,>=2.0.2 (from spacy)\n",
      "  Using cached cymem-2.0.11-cp313-cp313-win_amd64.whl.metadata (8.8 kB)\n",
      "Collecting preshed<3.1.0,>=3.0.2 (from spacy)\n",
      "  Using cached preshed-3.0.10-cp313-cp313-win_amd64.whl.metadata (2.5 kB)\n",
      "Collecting thinc<8.4.0,>=8.3.4 (from spacy)\n",
      "  Using cached thinc-8.3.6-cp313-cp313-win_amd64.whl.metadata (15 kB)\n",
      "Collecting wasabi<1.2.0,>=0.9.1 (from spacy)\n",
      "  Using cached wasabi-1.1.3-py3-none-any.whl.metadata (28 kB)\n",
      "Collecting srsly<3.0.0,>=2.4.3 (from spacy)\n",
      "  Using cached srsly-2.5.1-cp313-cp313-win_amd64.whl.metadata (20 kB)\n",
      "Collecting catalogue<2.1.0,>=2.0.6 (from spacy)\n",
      "  Using cached catalogue-2.0.10-py3-none-any.whl.metadata (14 kB)\n",
      "Collecting weasel<0.5.0,>=0.1.0 (from spacy)\n",
      "  Using cached weasel-0.4.1-py3-none-any.whl.metadata (4.6 kB)\n",
      "Requirement already satisfied: typer<1.0.0,>=0.3.0 in c:\\users\\yousef_haroon\\anaconda3\\lib\\site-packages (from spacy) (0.9.0)\n",
      "Requirement already satisfied: tqdm<5.0.0,>=4.38.0 in c:\\users\\yousef_haroon\\anaconda3\\lib\\site-packages (from spacy) (4.67.1)\n",
      "Requirement already satisfied: numpy>=1.19.0 in c:\\users\\yousef_haroon\\anaconda3\\lib\\site-packages (from spacy) (2.1.3)\n",
      "Requirement already satisfied: requests<3.0.0,>=2.13.0 in c:\\users\\yousef_haroon\\anaconda3\\lib\\site-packages (from spacy) (2.32.3)\n",
      "Requirement already satisfied: pydantic!=1.8,!=1.8.1,<3.0.0,>=1.7.4 in c:\\users\\yousef_haroon\\anaconda3\\lib\\site-packages (from spacy) (2.10.3)\n",
      "Requirement already satisfied: jinja2 in c:\\users\\yousef_haroon\\anaconda3\\lib\\site-packages (from spacy) (3.1.6)\n",
      "Requirement already satisfied: setuptools in c:\\users\\yousef_haroon\\anaconda3\\lib\\site-packages (from spacy) (72.1.0)\n",
      "Requirement already satisfied: packaging>=20.0 in c:\\users\\yousef_haroon\\appdata\\roaming\\python\\python313\\site-packages (from spacy) (24.2)\n",
      "Collecting langcodes<4.0.0,>=3.2.0 (from spacy)\n",
      "  Using cached langcodes-3.5.0-py3-none-any.whl.metadata (29 kB)\n",
      "Collecting language-data>=1.2 (from langcodes<4.0.0,>=3.2.0->spacy)\n",
      "  Using cached language_data-1.3.0-py3-none-any.whl.metadata (4.3 kB)\n",
      "Requirement already satisfied: annotated-types>=0.6.0 in c:\\users\\yousef_haroon\\anaconda3\\lib\\site-packages (from pydantic!=1.8,!=1.8.1,<3.0.0,>=1.7.4->spacy) (0.6.0)\n",
      "Requirement already satisfied: pydantic-core==2.27.1 in c:\\users\\yousef_haroon\\anaconda3\\lib\\site-packages (from pydantic!=1.8,!=1.8.1,<3.0.0,>=1.7.4->spacy) (2.27.1)\n",
      "Requirement already satisfied: typing-extensions>=4.12.2 in c:\\users\\yousef_haroon\\anaconda3\\lib\\site-packages (from pydantic!=1.8,!=1.8.1,<3.0.0,>=1.7.4->spacy) (4.12.2)\n",
      "Requirement already satisfied: charset-normalizer<4,>=2 in c:\\users\\yousef_haroon\\anaconda3\\lib\\site-packages (from requests<3.0.0,>=2.13.0->spacy) (3.3.2)\n",
      "Requirement already satisfied: idna<4,>=2.5 in c:\\users\\yousef_haroon\\anaconda3\\lib\\site-packages (from requests<3.0.0,>=2.13.0->spacy) (3.7)\n",
      "Requirement already satisfied: urllib3<3,>=1.21.1 in c:\\users\\yousef_haroon\\anaconda3\\lib\\site-packages (from requests<3.0.0,>=2.13.0->spacy) (2.3.0)\n",
      "Requirement already satisfied: certifi>=2017.4.17 in c:\\users\\yousef_haroon\\anaconda3\\lib\\site-packages (from requests<3.0.0,>=2.13.0->spacy) (2025.4.26)\n",
      "Collecting blis<1.4.0,>=1.3.0 (from thinc<8.4.0,>=8.3.4->spacy)\n",
      "  Using cached blis-1.3.0-cp313-cp313-win_amd64.whl.metadata (7.6 kB)\n",
      "Collecting confection<1.0.0,>=0.0.1 (from thinc<8.4.0,>=8.3.4->spacy)\n",
      "  Using cached confection-0.1.5-py3-none-any.whl.metadata (19 kB)\n",
      "Requirement already satisfied: colorama in c:\\users\\yousef_haroon\\appdata\\roaming\\python\\python313\\site-packages (from tqdm<5.0.0,>=4.38.0->spacy) (0.4.6)\n",
      "Requirement already satisfied: click<9.0.0,>=7.1.1 in c:\\users\\yousef_haroon\\anaconda3\\lib\\site-packages (from typer<1.0.0,>=0.3.0->spacy) (8.1.8)\n",
      "Collecting cloudpathlib<1.0.0,>=0.7.0 (from weasel<0.5.0,>=0.1.0->spacy)\n",
      "  Using cached cloudpathlib-0.21.1-py3-none-any.whl.metadata (14 kB)\n",
      "Collecting smart-open<8.0.0,>=5.2.1 (from weasel<0.5.0,>=0.1.0->spacy)\n",
      "  Using cached smart_open-7.3.0.post1-py3-none-any.whl.metadata (24 kB)\n",
      "Requirement already satisfied: wrapt in c:\\users\\yousef_haroon\\anaconda3\\lib\\site-packages (from smart-open<8.0.0,>=5.2.1->weasel<0.5.0,>=0.1.0->spacy) (1.17.0)\n",
      "Collecting marisa-trie>=1.1.0 (from language-data>=1.2->langcodes<4.0.0,>=3.2.0->spacy)\n",
      "  Using cached marisa_trie-1.2.1-cp313-cp313-win_amd64.whl.metadata (9.3 kB)\n",
      "Requirement already satisfied: MarkupSafe>=2.0 in c:\\users\\yousef_haroon\\anaconda3\\lib\\site-packages (from jinja2->spacy) (3.0.2)\n",
      "Using cached spacy-3.8.7-cp313-cp313-win_amd64.whl (13.9 MB)\n",
      "Using cached catalogue-2.0.10-py3-none-any.whl (17 kB)\n",
      "Using cached cymem-2.0.11-cp313-cp313-win_amd64.whl (39 kB)\n",
      "Using cached langcodes-3.5.0-py3-none-any.whl (182 kB)\n",
      "Using cached murmurhash-1.0.13-cp313-cp313-win_amd64.whl (24 kB)\n",
      "Using cached preshed-3.0.10-cp313-cp313-win_amd64.whl (115 kB)\n",
      "Using cached spacy_legacy-3.0.12-py2.py3-none-any.whl (29 kB)\n",
      "Using cached spacy_loggers-1.0.5-py3-none-any.whl (22 kB)\n",
      "Using cached srsly-2.5.1-cp313-cp313-win_amd64.whl (630 kB)\n",
      "Using cached thinc-8.3.6-cp313-cp313-win_amd64.whl (1.7 MB)\n",
      "Downloading blis-1.3.0-cp313-cp313-win_amd64.whl (6.3 MB)\n",
      "   ---------------------------------------- 0.0/6.3 MB ? eta -:--:--\n",
      "   ---------------------------------------- 0.0/6.3 MB ? eta -:--:--\n",
      "   - -------------------------------------- 0.3/6.3 MB ? eta -:--:--\n",
      "   --- ------------------------------------ 0.5/6.3 MB 1.3 MB/s eta 0:00:05\n",
      "   ----- ---------------------------------- 0.8/6.3 MB 1.1 MB/s eta 0:00:05\n",
      "   ----- ---------------------------------- 0.8/6.3 MB 1.1 MB/s eta 0:00:05\n",
      "   ----- ---------------------------------- 0.8/6.3 MB 1.1 MB/s eta 0:00:05\n",
      "   -------- ------------------------------- 1.3/6.3 MB 896.2 kB/s eta 0:00:06\n",
      "   ---------- ----------------------------- 1.6/6.3 MB 1.0 MB/s eta 0:00:05\n",
      "   ----------- ---------------------------- 1.8/6.3 MB 1.0 MB/s eta 0:00:05\n",
      "   ------------- -------------------------- 2.1/6.3 MB 1.0 MB/s eta 0:00:04\n",
      "   --------------- ------------------------ 2.4/6.3 MB 1.1 MB/s eta 0:00:04\n",
      "   ---------------- ----------------------- 2.6/6.3 MB 1.1 MB/s eta 0:00:04\n",
      "   ------------------ --------------------- 2.9/6.3 MB 1.1 MB/s eta 0:00:04\n",
      "   ------------------ --------------------- 2.9/6.3 MB 1.1 MB/s eta 0:00:04\n",
      "   -------------------- ------------------- 3.1/6.3 MB 1.1 MB/s eta 0:00:03\n",
      "   --------------------- ------------------ 3.4/6.3 MB 1.1 MB/s eta 0:00:03\n",
      "   --------------------- ------------------ 3.4/6.3 MB 1.1 MB/s eta 0:00:03\n",
      "   ----------------------- ---------------- 3.7/6.3 MB 1.0 MB/s eta 0:00:03\n",
      "   ----------------------- ---------------- 3.7/6.3 MB 1.0 MB/s eta 0:00:03\n",
      "   ------------------------- -------------- 3.9/6.3 MB 947.5 kB/s eta 0:00:03\n",
      "   ------------------------- -------------- 3.9/6.3 MB 947.5 kB/s eta 0:00:03\n",
      "   ------------------------- -------------- 3.9/6.3 MB 947.5 kB/s eta 0:00:03\n",
      "   -------------------------- ------------- 4.2/6.3 MB 863.9 kB/s eta 0:00:03\n",
      "   -------------------------- ------------- 4.2/6.3 MB 863.9 kB/s eta 0:00:03\n",
      "   -------------------------- ------------- 4.2/6.3 MB 863.9 kB/s eta 0:00:03\n",
      "   -------------------------- ------------- 4.2/6.3 MB 863.9 kB/s eta 0:00:03\n",
      "   ---------------------------- ----------- 4.5/6.3 MB 798.4 kB/s eta 0:00:03\n",
      "   ---------------------------- ----------- 4.5/6.3 MB 798.4 kB/s eta 0:00:03\n",
      "   ---------------------------- ----------- 4.5/6.3 MB 798.4 kB/s eta 0:00:03\n",
      "   ------------------------------ --------- 4.7/6.3 MB 751.2 kB/s eta 0:00:03\n",
      "   ------------------------------ --------- 4.7/6.3 MB 751.2 kB/s eta 0:00:03\n",
      "   ------------------------------ --------- 4.7/6.3 MB 751.2 kB/s eta 0:00:03\n",
      "   ------------------------------- -------- 5.0/6.3 MB 718.9 kB/s eta 0:00:02\n",
      "   ------------------------------- -------- 5.0/6.3 MB 718.9 kB/s eta 0:00:02\n",
      "   ------------------------------- -------- 5.0/6.3 MB 718.9 kB/s eta 0:00:02\n",
      "   ------------------------------- -------- 5.0/6.3 MB 718.9 kB/s eta 0:00:02\n",
      "   --------------------------------- ------ 5.2/6.3 MB 667.7 kB/s eta 0:00:02\n",
      "   --------------------------------- ------ 5.2/6.3 MB 667.7 kB/s eta 0:00:02\n",
      "   --------------------------------- ------ 5.2/6.3 MB 667.7 kB/s eta 0:00:02\n",
      "   --------------------------------- ------ 5.2/6.3 MB 667.7 kB/s eta 0:00:02\n",
      "   --------------------------------- ------ 5.2/6.3 MB 667.7 kB/s eta 0:00:02\n",
      "   --------------------------------- ------ 5.2/6.3 MB 667.7 kB/s eta 0:00:02\n",
      "   --------------------------------- ------ 5.2/6.3 MB 667.7 kB/s eta 0:00:02\n",
      "   --------------------------------- ------ 5.2/6.3 MB 667.7 kB/s eta 0:00:02\n",
      "   --------------------------------- ------ 5.2/6.3 MB 667.7 kB/s eta 0:00:02\n",
      "   ----------------------------------- ---- 5.5/6.3 MB 564.7 kB/s eta 0:00:02\n",
      "   ----------------------------------- ---- 5.5/6.3 MB 564.7 kB/s eta 0:00:02\n",
      "   ----------------------------------- ---- 5.5/6.3 MB 564.7 kB/s eta 0:00:02\n",
      "   ----------------------------------- ---- 5.5/6.3 MB 564.7 kB/s eta 0:00:02\n",
      "   ----------------------------------- ---- 5.5/6.3 MB 564.7 kB/s eta 0:00:02\n",
      "   ----------------------------------- ---- 5.5/6.3 MB 564.7 kB/s eta 0:00:02\n",
      "   ----------------------------------- ---- 5.5/6.3 MB 564.7 kB/s eta 0:00:02\n",
      "   ----------------------------------- ---- 5.5/6.3 MB 564.7 kB/s eta 0:00:02\n",
      "   ----------------------------------- ---- 5.5/6.3 MB 564.7 kB/s eta 0:00:02\n",
      "   ----------------------------------- ---- 5.5/6.3 MB 564.7 kB/s eta 0:00:02\n",
      "   ------------------------------------ --- 5.8/6.3 MB 479.0 kB/s eta 0:00:02\n",
      "   ------------------------------------ --- 5.8/6.3 MB 479.0 kB/s eta 0:00:02\n",
      "   ------------------------------------ --- 5.8/6.3 MB 479.0 kB/s eta 0:00:02\n",
      "   ------------------------------------ --- 5.8/6.3 MB 479.0 kB/s eta 0:00:02\n",
      "   ------------------------------------ --- 5.8/6.3 MB 479.0 kB/s eta 0:00:02\n",
      "   ------------------------------------ --- 5.8/6.3 MB 479.0 kB/s eta 0:00:02\n",
      "   ------------------------------------ --- 5.8/6.3 MB 479.0 kB/s eta 0:00:02\n",
      "   -------------------------------------- - 6.0/6.3 MB 447.6 kB/s eta 0:00:01\n",
      "   -------------------------------------- - 6.0/6.3 MB 447.6 kB/s eta 0:00:01\n",
      "   -------------------------------------- - 6.0/6.3 MB 447.6 kB/s eta 0:00:01\n",
      "   -------------------------------------- - 6.0/6.3 MB 447.6 kB/s eta 0:00:01\n",
      "   -------------------------------------- - 6.0/6.3 MB 447.6 kB/s eta 0:00:01\n",
      "   ---------------------------------------- 6.3/6.3 MB 428.5 kB/s eta 0:00:00\n",
      "Downloading confection-0.1.5-py3-none-any.whl (35 kB)\n",
      "Downloading wasabi-1.1.3-py3-none-any.whl (27 kB)\n",
      "Downloading weasel-0.4.1-py3-none-any.whl (50 kB)\n",
      "Downloading cloudpathlib-0.21.1-py3-none-any.whl (52 kB)\n",
      "Downloading smart_open-7.3.0.post1-py3-none-any.whl (61 kB)\n",
      "Downloading language_data-1.3.0-py3-none-any.whl (5.4 MB)\n",
      "   ---------------------------------------- 0.0/5.4 MB ? eta -:--:--\n",
      "   ---------------------------------------- 0.0/5.4 MB ? eta -:--:--\n",
      "   ---------------------------------------- 0.0/5.4 MB ? eta -:--:--\n",
      "   ---------------------------------------- 0.0/5.4 MB ? eta -:--:--\n",
      "   - -------------------------------------- 0.3/5.4 MB ? eta -:--:--\n",
      "   - -------------------------------------- 0.3/5.4 MB ? eta -:--:--\n",
      "   --- ------------------------------------ 0.5/5.4 MB 545.9 kB/s eta 0:00:09\n",
      "   --- ------------------------------------ 0.5/5.4 MB 545.9 kB/s eta 0:00:09\n",
      "   --- ------------------------------------ 0.5/5.4 MB 545.9 kB/s eta 0:00:09\n",
      "   ----- ---------------------------------- 0.8/5.4 MB 531.7 kB/s eta 0:00:09\n",
      "   ----- ---------------------------------- 0.8/5.4 MB 531.7 kB/s eta 0:00:09\n",
      "   ------- -------------------------------- 1.0/5.4 MB 560.7 kB/s eta 0:00:08\n",
      "   ------- -------------------------------- 1.0/5.4 MB 560.7 kB/s eta 0:00:08\n",
      "   --------- ------------------------------ 1.3/5.4 MB 547.8 kB/s eta 0:00:08\n",
      "   --------- ------------------------------ 1.3/5.4 MB 547.8 kB/s eta 0:00:08\n",
      "   ----------- ---------------------------- 1.6/5.4 MB 554.6 kB/s eta 0:00:07\n",
      "   ----------- ---------------------------- 1.6/5.4 MB 554.6 kB/s eta 0:00:07\n",
      "   ----------- ---------------------------- 1.6/5.4 MB 554.6 kB/s eta 0:00:07\n",
      "   ------------- -------------------------- 1.8/5.4 MB 545.8 kB/s eta 0:00:07\n",
      "   ------------- -------------------------- 1.8/5.4 MB 545.8 kB/s eta 0:00:07\n",
      "   ------------- -------------------------- 1.8/5.4 MB 545.8 kB/s eta 0:00:07\n",
      "   --------------- ------------------------ 2.1/5.4 MB 494.7 kB/s eta 0:00:07\n",
      "   --------------- ------------------------ 2.1/5.4 MB 494.7 kB/s eta 0:00:07\n",
      "   --------------- ------------------------ 2.1/5.4 MB 494.7 kB/s eta 0:00:07\n",
      "   ----------------- ---------------------- 2.4/5.4 MB 488.1 kB/s eta 0:00:07\n",
      "   ----------------- ---------------------- 2.4/5.4 MB 488.1 kB/s eta 0:00:07\n",
      "   ----------------- ---------------------- 2.4/5.4 MB 488.1 kB/s eta 0:00:07\n",
      "   ------------------- -------------------- 2.6/5.4 MB 486.7 kB/s eta 0:00:06\n",
      "   ------------------- -------------------- 2.6/5.4 MB 486.7 kB/s eta 0:00:06\n",
      "   --------------------- ------------------ 2.9/5.4 MB 491.5 kB/s eta 0:00:06\n",
      "   --------------------- ------------------ 2.9/5.4 MB 491.5 kB/s eta 0:00:06\n",
      "   --------------------- ------------------ 2.9/5.4 MB 491.5 kB/s eta 0:00:06\n",
      "   ----------------------- ---------------- 3.1/5.4 MB 487.2 kB/s eta 0:00:05\n",
      "   ----------------------- ---------------- 3.1/5.4 MB 487.2 kB/s eta 0:00:05\n",
      "   ----------------------- ---------------- 3.1/5.4 MB 487.2 kB/s eta 0:00:05\n",
      "   ----------------------- ---------------- 3.1/5.4 MB 487.2 kB/s eta 0:00:05\n",
      "   ----------------------- ---------------- 3.1/5.4 MB 487.2 kB/s eta 0:00:05\n",
      "   ------------------------- -------------- 3.4/5.4 MB 447.5 kB/s eta 0:00:05\n",
      "   ------------------------- -------------- 3.4/5.4 MB 447.5 kB/s eta 0:00:05\n",
      "   ------------------------- -------------- 3.4/5.4 MB 447.5 kB/s eta 0:00:05\n",
      "   ------------------------- -------------- 3.4/5.4 MB 447.5 kB/s eta 0:00:05\n",
      "   ------------------------- -------------- 3.4/5.4 MB 447.5 kB/s eta 0:00:05\n",
      "   --------------------------- ------------ 3.7/5.4 MB 420.9 kB/s eta 0:00:05\n",
      "   --------------------------- ------------ 3.7/5.4 MB 420.9 kB/s eta 0:00:05\n",
      "   ----------------------------- ---------- 3.9/5.4 MB 433.3 kB/s eta 0:00:04\n",
      "   ----------------------------- ---------- 3.9/5.4 MB 433.3 kB/s eta 0:00:04\n",
      "   ------------------------------- -------- 4.2/5.4 MB 442.8 kB/s eta 0:00:03\n",
      "   --------------------------------- ------ 4.5/5.4 MB 454.7 kB/s eta 0:00:03\n",
      "   --------------------------------- ------ 4.5/5.4 MB 454.7 kB/s eta 0:00:03\n",
      "   ----------------------------------- ---- 4.7/5.4 MB 463.5 kB/s eta 0:00:02\n",
      "   ----------------------------------- ---- 4.7/5.4 MB 463.5 kB/s eta 0:00:02\n",
      "   ------------------------------------ --- 5.0/5.4 MB 474.6 kB/s eta 0:00:01\n",
      "   ------------------------------------ --- 5.0/5.4 MB 474.6 kB/s eta 0:00:01\n",
      "   -------------------------------------- - 5.2/5.4 MB 482.2 kB/s eta 0:00:01\n",
      "   ---------------------------------------- 5.4/5.4 MB 486.7 kB/s eta 0:00:00\n",
      "Downloading marisa_trie-1.2.1-cp313-cp313-win_amd64.whl (149 kB)\n",
      "Installing collected packages: cymem, wasabi, spacy-loggers, spacy-legacy, smart-open, murmurhash, marisa-trie, cloudpathlib, catalogue, blis, srsly, preshed, language-data, langcodes, confection, weasel, thinc, spacy\n",
      "\n",
      "   ---- -----------------------------------  2/18 [spacy-loggers]\n",
      "   -------- -------------------------------  4/18 [smart-open]\n",
      "   --------------- ------------------------  7/18 [cloudpathlib]\n",
      "   -------------------- -------------------  9/18 [blis]\n",
      "   ---------------------- ----------------- 10/18 [srsly]\n",
      "   ---------------------- ----------------- 10/18 [srsly]\n",
      "   ---------------------- ----------------- 10/18 [srsly]\n",
      "   ------------------------ --------------- 11/18 [preshed]\n",
      "   -------------------------- ------------- 12/18 [language-data]\n",
      "   -------------------------- ------------- 12/18 [language-data]\n",
      "   -------------------------- ------------- 12/18 [language-data]\n",
      "   -------------------------- ------------- 12/18 [language-data]\n",
      "   -------------------------- ------------- 12/18 [language-data]\n",
      "   -------------------------- ------------- 12/18 [language-data]\n",
      "   ---------------------------- ----------- 13/18 [langcodes]\n",
      "   --------------------------------- ------ 15/18 [weasel]\n",
      "   --------------------------------- ------ 15/18 [weasel]\n",
      "   ----------------------------------- ---- 16/18 [thinc]\n",
      "   ----------------------------------- ---- 16/18 [thinc]\n",
      "   ----------------------------------- ---- 16/18 [thinc]\n",
      "   ----------------------------------- ---- 16/18 [thinc]\n",
      "   ----------------------------------- ---- 16/18 [thinc]\n",
      "   ----------------------------------- ---- 16/18 [thinc]\n",
      "   ------------------------------------- -- 17/18 [spacy]\n",
      "   ------------------------------------- -- 17/18 [spacy]\n",
      "   ------------------------------------- -- 17/18 [spacy]\n",
      "   ------------------------------------- -- 17/18 [spacy]\n",
      "   ------------------------------------- -- 17/18 [spacy]\n",
      "   ------------------------------------- -- 17/18 [spacy]\n",
      "   ------------------------------------- -- 17/18 [spacy]\n",
      "   ------------------------------------- -- 17/18 [spacy]\n",
      "   ------------------------------------- -- 17/18 [spacy]\n",
      "   ------------------------------------- -- 17/18 [spacy]\n",
      "   ------------------------------------- -- 17/18 [spacy]\n",
      "   ------------------------------------- -- 17/18 [spacy]\n",
      "   ------------------------------------- -- 17/18 [spacy]\n",
      "   ------------------------------------- -- 17/18 [spacy]\n",
      "   ------------------------------------- -- 17/18 [spacy]\n",
      "   ------------------------------------- -- 17/18 [spacy]\n",
      "   ------------------------------------- -- 17/18 [spacy]\n",
      "   ------------------------------------- -- 17/18 [spacy]\n",
      "   ------------------------------------- -- 17/18 [spacy]\n",
      "   ------------------------------------- -- 17/18 [spacy]\n",
      "   ------------------------------------- -- 17/18 [spacy]\n",
      "   ------------------------------------- -- 17/18 [spacy]\n",
      "   ------------------------------------- -- 17/18 [spacy]\n",
      "   ------------------------------------- -- 17/18 [spacy]\n",
      "   ------------------------------------- -- 17/18 [spacy]\n",
      "   ---------------------------------------- 18/18 [spacy]\n",
      "\n",
      "Successfully installed blis-1.3.0 catalogue-2.0.10 cloudpathlib-0.21.1 confection-0.1.5 cymem-2.0.11 langcodes-3.5.0 language-data-1.3.0 marisa-trie-1.2.1 murmurhash-1.0.13 preshed-3.0.10 smart-open-7.3.0.post1 spacy-3.8.7 spacy-legacy-3.0.12 spacy-loggers-1.0.5 srsly-2.5.1 thinc-8.3.6 wasabi-1.1.3 weasel-0.4.1\n",
      "Note: you may need to restart the kernel to use updated packages.\n"
     ]
    }
   ],
   "source": [
    "pip install spacy"
   ]
  },
  {
   "cell_type": "code",
   "execution_count": 4,
   "id": "99da2a56-5cec-4a68-a92e-1bdb6b4f0613",
   "metadata": {},
   "outputs": [],
   "source": [
    "import spacy\n",
    "nlp=spacy.load(\"en_core_web_sm\")"
   ]
  },
  {
   "cell_type": "code",
   "execution_count": 5,
   "id": "920e47d1-5da4-4f37-84f7-dbc93e56cfa4",
   "metadata": {},
   "outputs": [
    {
     "data": {
      "text/plain": [
       "spacy.lang.en.English"
      ]
     },
     "execution_count": 5,
     "metadata": {},
     "output_type": "execute_result"
    }
   ],
   "source": [
    "type(nlp)"
   ]
  },
  {
   "cell_type": "code",
   "execution_count": 15,
   "id": "b01f59f0-e507-4ca9-8c33-f8ab052da92e",
   "metadata": {},
   "outputs": [],
   "source": [
    "doc=nlp(\"Tesla is one of the best cars 255$\")"
   ]
  },
  {
   "cell_type": "code",
   "execution_count": 16,
   "id": "4c578711-6cff-4413-bda2-ea82a76b2167",
   "metadata": {},
   "outputs": [
    {
     "data": {
      "text/plain": [
       "spacy.tokens.doc.Doc"
      ]
     },
     "execution_count": 16,
     "metadata": {},
     "output_type": "execute_result"
    }
   ],
   "source": [
    "type(doc)"
   ]
  },
  {
   "cell_type": "code",
   "execution_count": 17,
   "id": "ce6e77bc-7b3f-49f6-91ea-4741dfa28106",
   "metadata": {
    "scrolled": true
   },
   "outputs": [
    {
     "name": "stdout",
     "output_type": "stream",
     "text": [
      "Tesla\n",
      "16072095006890171862\n",
      "Xxxxx\n",
      "True\n",
      "False\n",
      "----------------\n",
      "is\n",
      "4370460163704169311\n",
      "xx\n",
      "True\n",
      "True\n",
      "----------------\n",
      "one\n",
      "4088098365541558500\n",
      "xxx\n",
      "True\n",
      "True\n",
      "----------------\n",
      "of\n",
      "4370460163704169311\n",
      "xx\n",
      "True\n",
      "True\n",
      "----------------\n",
      "the\n",
      "4088098365541558500\n",
      "xxx\n",
      "True\n",
      "True\n",
      "----------------\n",
      "best\n",
      "13110060611322374290\n",
      "xxxx\n",
      "True\n",
      "False\n",
      "----------------\n",
      "cars\n",
      "13110060611322374290\n",
      "xxxx\n",
      "True\n",
      "False\n",
      "----------------\n",
      "255\n",
      "15814017338663416870\n",
      "ddd\n",
      "False\n",
      "False\n",
      "----------------\n",
      "$\n",
      "11283501755624150392\n",
      "$\n",
      "False\n",
      "False\n",
      "----------------\n"
     ]
    }
   ],
   "source": [
    "for token in doc:\n",
    "    print(token.text)\n",
    "    print(token.shape)\n",
    "    print(token.shape_)\n",
    "    print(token.is_alpha)\n",
    "    print(token.is_stop)\n",
    "    print('----------------')"
   ]
  },
  {
   "cell_type": "code",
   "execution_count": 18,
   "id": "94915d9b-ec1e-4074-9b14-e6f898680c81",
   "metadata": {},
   "outputs": [
    {
     "data": {
      "text/plain": [
       "(Tesla, is, one, of)"
      ]
     },
     "execution_count": 18,
     "metadata": {},
     "output_type": "execute_result"
    }
   ],
   "source": [
    "doc[0],doc[1],doc[2],doc[3]"
   ]
  },
  {
   "cell_type": "code",
   "execution_count": 20,
   "id": "19c977a7-e416-47f1-98bd-4fc9a97b58f1",
   "metadata": {},
   "outputs": [
    {
     "name": "stdout",
     "output_type": "stream",
     "text": [
      "we | 're | moving | to | L.A. | ! | "
     ]
    }
   ],
   "source": [
    "mystring=\"we're moving to L.A.!\"\n",
    "doc2=nlp(mystring)\n",
    "for token in doc2:\n",
    "    print(token.text,end=' | ')"
   ]
  },
  {
   "cell_type": "code",
   "execution_count": 21,
   "id": "f608426a-9f96-45c1-bdb3-4fb76092800e",
   "metadata": {},
   "outputs": [
    {
     "name": "stdout",
     "output_type": "stream",
     "text": [
      "i\n",
      "use\n",
      "my\n",
      "-\n",
      "email\n",
      "in\n",
      "https://students.amit-learning.com/login\n",
      "page\n"
     ]
    }
   ],
   "source": [
    "doc3=nlp(\"i use my-email in https://students.amit-learning.com/login page\")\n",
    "for token in doc3:\n",
    "    print(token)"
   ]
  },
  {
   "cell_type": "code",
   "execution_count": 24,
   "id": "eb7daaaf-980a-4223-9894-95a32d1d1a23",
   "metadata": {},
   "outputs": [],
   "source": [
    "from nltk.tokenize import word_tokenize\n",
    "text=\"\"\"\n",
    "hello, my name is yousef how are you ??\n",
    "the weather is great , \n",
    "and Python is awesome.\n",
    "the sky is pinkish-blue.\n",
    "you shouldn't eat cardboard\n",
    "\"\"\""
   ]
  },
  {
   "cell_type": "code",
   "execution_count": 25,
   "id": "048ea960-c927-4f67-8ee2-83418d74a225",
   "metadata": {},
   "outputs": [
    {
     "name": "stdout",
     "output_type": "stream",
     "text": [
      "['hello', ',', 'my', 'name', 'is', 'yousef', 'how', 'are', 'you', '?', '?', 'the', 'weather', 'is', 'great', ',', 'and', 'Python', 'is', 'awesome', '.', 'the', 'sky', 'is', 'pinkish-blue', '.', 'you', 'should', \"n't\", 'eat', 'cardboard']\n"
     ]
    }
   ],
   "source": [
    "print(word_tokenize(text))"
   ]
  },
  {
   "cell_type": "code",
   "execution_count": 26,
   "id": "2fb77be1-a6ef-497c-8c72-350026ed0bb5",
   "metadata": {},
   "outputs": [
    {
     "name": "stdout",
     "output_type": "stream",
     "text": [
      "[]\n",
      "----------------\n",
      "['hello', ',', 'my', 'name']\n",
      "================\n",
      "['hello,', 'my', 'name', 'is']\n",
      "----------------\n",
      "['hello', ',', 'my', 'name']\n",
      "================\n",
      "['the', 'weather', 'is', 'great']\n",
      "----------------\n",
      "['hello', ',', 'my', 'name']\n",
      "================\n",
      "['and', 'Python', 'is', 'awesome.']\n",
      "----------------\n",
      "['hello', ',', 'my', 'name']\n",
      "================\n"
     ]
    }
   ],
   "source": [
    "for line in text.split('\\n')[:4]:\n",
    "    print(line.split()[:4])\n",
    "    print('----------------')\n",
    "    print(word_tokenize(text)[:4])\n",
    "    print('================')\n"
   ]
  },
  {
   "cell_type": "code",
   "execution_count": 2,
   "id": "2aa42069-f1f7-41e2-98e2-88022667d451",
   "metadata": {},
   "outputs": [
    {
     "name": "stdout",
     "output_type": "stream",
     "text": [
      "يعد\n",
      "4088098365541558500\n",
      "xxx\n",
      "True\n",
      "False\n",
      "----------------\n",
      "الذكاء\n",
      "13110060611322374290\n",
      "xxxx\n",
      "True\n",
      "False\n",
      "----------------\n",
      "الاصطناعى\n",
      "13110060611322374290\n",
      "xxxx\n",
      "True\n",
      "False\n",
      "----------------\n",
      "من\n",
      "4370460163704169311\n",
      "xx\n",
      "True\n",
      "False\n",
      "----------------\n",
      "العلوم\n",
      "13110060611322374290\n",
      "xxxx\n",
      "True\n",
      "False\n",
      "----------------\n",
      "التى\n",
      "13110060611322374290\n",
      "xxxx\n",
      "True\n",
      "False\n",
      "----------------\n",
      "يتسارع\n",
      "13110060611322374290\n",
      "xxxx\n",
      "True\n",
      "False\n",
      "----------------\n",
      "التطور\n",
      "13110060611322374290\n",
      "xxxx\n",
      "True\n",
      "False\n",
      "----------------\n",
      "فيها\n",
      "13110060611322374290\n",
      "xxxx\n",
      "True\n",
      "False\n",
      "----------------\n",
      "بشكل\n",
      "13110060611322374290\n",
      "xxxx\n",
      "True\n",
      "False\n",
      "----------------\n",
      "لافت\n",
      "13110060611322374290\n",
      "xxxx\n",
      "True\n",
      "False\n",
      "----------------\n",
      "منذ\n",
      "4088098365541558500\n",
      "xxx\n",
      "True\n",
      "False\n",
      "----------------\n",
      "2005\n",
      "16540303583526207617\n",
      "dddd\n",
      "False\n",
      "False\n",
      "----------------\n",
      "ولمدة\n",
      "13110060611322374290\n",
      "xxxx\n",
      "True\n",
      "False\n",
      "----------------\n",
      "15\n",
      "4620368362210911820\n",
      "dd\n",
      "False\n",
      "False\n",
      "----------------\n",
      "سنة\n",
      "4088098365541558500\n",
      "xxx\n",
      "True\n",
      "False\n",
      "----------------\n"
     ]
    }
   ],
   "source": [
    "import spacy\n",
    "nlp=spacy.load(\"en_core_web_sm\")\n",
    "doc= nlp(\"يعد الذكاء الاصطناعى من العلوم التى يتسارع التطور فيها بشكل لافت منذ 2005 ولمدة 15 سنة\")\n",
    "\n",
    "for token in doc:\n",
    "    print(token.text)\n",
    "    print(token.shape)\n",
    "    print(token.shape_)\n",
    "    print(token.is_alpha)\n",
    "    print(token.is_stop)\n",
    "    print('----------------')"
   ]
  },
  {
   "cell_type": "code",
   "execution_count": 8,
   "id": "e414c2a8-272f-4149-be33-2c3fb8fb9365",
   "metadata": {},
   "outputs": [],
   "source": [
    "text=\"\"\"\n",
    "hello, my name is yousef how are you ??\n",
    "the weather is great . \n",
    "and Python is awesome.\n",
    "the sky is pinkish-blue.\n",
    "you shouldn't eat cardboard\n",
    "\"\"\"\n",
    "doc=nlp(text)"
   ]
  },
  {
   "cell_type": "code",
   "execution_count": 9,
   "id": "37b0d5a8-811b-4b95-bc0d-dd05612cc722",
   "metadata": {},
   "outputs": [
    {
     "name": "stdout",
     "output_type": "stream",
     "text": [
      "\n",
      "hello, my name is yousef how are you ??\n",
      "\n",
      "the weather is great . \n",
      "\n",
      "and Python is awesome.\n",
      "\n",
      "the sky is pinkish-blue.\n",
      "\n",
      "you shouldn't eat cardboard\n",
      "\n"
     ]
    }
   ],
   "source": [
    "for sent in doc.sents:\n",
    "    print(sent)"
   ]
  },
  {
   "cell_type": "code",
   "execution_count": 12,
   "id": "0add8e07-c49f-4f56-81c1-fca9b5076166",
   "metadata": {},
   "outputs": [
    {
     "name": "stdout",
     "output_type": "stream",
     "text": [
      "the\n",
      "True\n"
     ]
    }
   ],
   "source": [
    "print(doc[13])\n",
    "print(doc[13].is_sent_start)\n"
   ]
  },
  {
   "cell_type": "code",
   "execution_count": 14,
   "id": "8e1653e3-9998-4f23-9846-0c999269302e",
   "metadata": {},
   "outputs": [
    {
     "data": {
      "text/plain": [
       "\n",
       "hello, my name is yousef how are you ??"
      ]
     },
     "execution_count": 14,
     "metadata": {},
     "output_type": "execute_result"
    }
   ],
   "source": [
    "list(doc.sents)[0]"
   ]
  },
  {
   "cell_type": "code",
   "execution_count": 15,
   "id": "8311b6f2-fca6-4254-b8b5-d30c2e8308b8",
   "metadata": {},
   "outputs": [],
   "source": [
    "doc_sents=[sent for sent in doc.sents] #نفس الخلية اللى فوق"
   ]
  },
  {
   "cell_type": "code",
   "execution_count": 16,
   "id": "4e587234-d398-4f79-b0c0-79004943528b",
   "metadata": {},
   "outputs": [
    {
     "name": "stdout",
     "output_type": "stream",
     "text": [
      "13 19\n"
     ]
    }
   ],
   "source": [
    "print(doc_sents[1].start,doc_sents[1].end)"
   ]
  },
  {
   "cell_type": "code",
   "execution_count": 22,
   "id": "179c1232-d172-490b-a235-08fed0e73f7a",
   "metadata": {},
   "outputs": [
    {
     "name": "stdout",
     "output_type": "stream",
     "text": [
      "\"Mangement is doing things right; leadership is doing the right things.\"\n",
      "-Peter Drucker\n"
     ]
    }
   ],
   "source": [
    "doc=nlp('\"Mangement is doing things right; leadership is doing the right things.\" -Peter Drucker')\n",
    "for sent in doc.sents:\n",
    "    print(sent)"
   ]
  },
  {
   "cell_type": "code",
   "execution_count": 25,
   "id": "2a6540d4-68c5-4c1b-9b62-de73876114b1",
   "metadata": {},
   "outputs": [
    {
     "data": {
      "text/plain": [
       "['tok2vec',\n",
       " 'tagger',\n",
       " 'set_custom_boundary',\n",
       " 'parser',\n",
       " 'attribute_ruler',\n",
       " 'lemmatizer',\n",
       " 'ner']"
      ]
     },
     "execution_count": 25,
     "metadata": {},
     "output_type": "execute_result"
    }
   ],
   "source": [
    "from spacy.language import Language\n",
    "\n",
    "@Language.component(\"set_custom_boundary\")\n",
    "def set_custom_boundary(doc):\n",
    "    for token in doc[:-1]:\n",
    "        if token.text==';':\n",
    "            doc[token.i+1].is_sent_start=True\n",
    "    return doc\n",
    "\n",
    "nlp.add_pipe(\"set_custom_boundary\",before='parser')\n",
    "nlp.pipe_names"
   ]
  },
  {
   "cell_type": "code",
   "execution_count": 27,
   "id": "0382092b-e9e3-4432-9285-7df21b770cac",
   "metadata": {},
   "outputs": [
    {
     "name": "stdout",
     "output_type": "stream",
     "text": [
      "\"Mangement is doing things right;\n",
      "leadership is doing the right things.\"\n",
      "-Peter Drucker\n"
     ]
    }
   ],
   "source": [
    "doc4=nlp('\"Mangement is doing things right; leadership is doing the right things.\" -Peter Drucker')\n",
    "for sent in doc4.sents:\n",
    "    print(sent)"
   ]
  },
  {
   "cell_type": "code",
   "execution_count": 28,
   "id": "0d9f6f7a-83f4-4bdd-9585-f6e854d91afd",
   "metadata": {},
   "outputs": [
    {
     "name": "stdout",
     "output_type": "stream",
     "text": [
      "\n",
      "hello, my name is yousef how are you ?\n",
      "?\n",
      "the weather is great .\n",
      "and Python is awesome.\n",
      "the sky is pinkish-blue.\n",
      "you shouldn't eat cardboard\n"
     ]
    }
   ],
   "source": [
    "from nltk.tokenize import sent_tokenize\n",
    "for s in sent_tokenize(text):\n",
    "    print(s)"
   ]
  },
  {
   "cell_type": "code",
   "execution_count": null,
   "id": "7d9d9b78-50bf-4428-bf0f-bda91fb4278d",
   "metadata": {},
   "outputs": [],
   "source": []
  }
 ],
 "metadata": {
  "kernelspec": {
   "display_name": "Python 3 (ipykernel)",
   "language": "python",
   "name": "python3"
  },
  "language_info": {
   "codemirror_mode": {
    "name": "ipython",
    "version": 3
   },
   "file_extension": ".py",
   "mimetype": "text/x-python",
   "name": "python",
   "nbconvert_exporter": "python",
   "pygments_lexer": "ipython3",
   "version": "3.13.5"
  }
 },
 "nbformat": 4,
 "nbformat_minor": 5
}
